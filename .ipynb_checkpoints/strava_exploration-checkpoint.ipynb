{
 "cells": [
  {
   "cell_type": "code",
   "execution_count": 1,
   "metadata": {},
   "outputs": [],
   "source": [
    "import pandas as pd\n",
    "import matplotlib.pyplot as plt"
   ]
  },
  {
   "cell_type": "code",
   "execution_count": 51,
   "metadata": {},
   "outputs": [],
   "source": [
    "# read in data\n",
    "activities = pd.read_csv('./data/activities.csv')\n",
    "\n",
    "# only keep logged running activities (removing cycling / swimming)\n",
    "activities = activities[activities['Activity Type'] == 'Run'].reset_index(drop=True)\n",
    "\n",
    "# only keep certain columns of interest\n",
    "cols_to_keep = ['Activity ID','Activity Date','Activity Name','Elapsed Time','Distance','Elevation Gain','Filename']\n",
    "activities = activities[cols_to_keep]\n",
    "\n",
    "# distance is currently in kilometers -- let's convert to miles\n",
    "activities.Distance = activities.Distance * 0.621371\n",
    "# elevation gain is currently in yards -- let's convert to feet\n",
    "activities['Elevation Gain'] = activities['Elevation Gain'] * 3\n",
    "\n",
    "# rename columns for ease in writing pandas code\n",
    "activities.columns = ['id','date','name','elapsed_seconds','kilometers','file_name','elevation_gain']"
   ]
  },
  {
   "cell_type": "code",
   "execution_count": 52,
   "metadata": {},
   "outputs": [
    {
     "data": {
      "text/html": [
       "<div>\n",
       "<style scoped>\n",
       "    .dataframe tbody tr th:only-of-type {\n",
       "        vertical-align: middle;\n",
       "    }\n",
       "\n",
       "    .dataframe tbody tr th {\n",
       "        vertical-align: top;\n",
       "    }\n",
       "\n",
       "    .dataframe thead th {\n",
       "        text-align: right;\n",
       "    }\n",
       "</style>\n",
       "<table border=\"1\" class=\"dataframe\">\n",
       "  <thead>\n",
       "    <tr style=\"text-align: right;\">\n",
       "      <th></th>\n",
       "      <th>id</th>\n",
       "      <th>date</th>\n",
       "      <th>name</th>\n",
       "      <th>elapsed_seconds</th>\n",
       "      <th>kilometers</th>\n",
       "      <th>file_name</th>\n",
       "      <th>elevation_gain</th>\n",
       "    </tr>\n",
       "  </thead>\n",
       "  <tbody>\n",
       "    <tr>\n",
       "      <th>0</th>\n",
       "      <td>2433875126</td>\n",
       "      <td>May 6, 2019, 11:18:41 PM</td>\n",
       "      <td>Evening Run</td>\n",
       "      <td>1796</td>\n",
       "      <td>3.206274</td>\n",
       "      <td>NaN</td>\n",
       "      <td>activities/2586852453.gpx.gz</td>\n",
       "    </tr>\n",
       "    <tr>\n",
       "      <th>1</th>\n",
       "      <td>2433875136</td>\n",
       "      <td>May 13, 2019, 3:25:58 PM</td>\n",
       "      <td>Lunch Run</td>\n",
       "      <td>1375</td>\n",
       "      <td>3.013649</td>\n",
       "      <td>108.349995</td>\n",
       "      <td>activities/2586852481.gpx.gz</td>\n",
       "    </tr>\n",
       "    <tr>\n",
       "      <th>2</th>\n",
       "      <td>2433875150</td>\n",
       "      <td>May 1, 2019, 5:34:29 PM</td>\n",
       "      <td>Afternoon Run</td>\n",
       "      <td>2211</td>\n",
       "      <td>4.262605</td>\n",
       "      <td>120.610004</td>\n",
       "      <td>activities/2586852444.gpx.gz</td>\n",
       "    </tr>\n",
       "    <tr>\n",
       "      <th>3</th>\n",
       "      <td>2433875152</td>\n",
       "      <td>May 14, 2019, 6:42:39 PM</td>\n",
       "      <td>Afternoon Run</td>\n",
       "      <td>2229</td>\n",
       "      <td>5.014464</td>\n",
       "      <td>101.810005</td>\n",
       "      <td>activities/2586852499.gpx.gz</td>\n",
       "    </tr>\n",
       "    <tr>\n",
       "      <th>4</th>\n",
       "      <td>2433875172</td>\n",
       "      <td>May 20, 2019, 9:29:40 PM</td>\n",
       "      <td>Afternoon Run</td>\n",
       "      <td>1476</td>\n",
       "      <td>3.001222</td>\n",
       "      <td>132.550003</td>\n",
       "      <td>activities/2586852558.gpx.gz</td>\n",
       "    </tr>\n",
       "  </tbody>\n",
       "</table>\n",
       "</div>"
      ],
      "text/plain": [
       "           id                      date           name  elapsed_seconds  \\\n",
       "0  2433875126  May 6, 2019, 11:18:41 PM    Evening Run             1796   \n",
       "1  2433875136  May 13, 2019, 3:25:58 PM      Lunch Run             1375   \n",
       "2  2433875150   May 1, 2019, 5:34:29 PM  Afternoon Run             2211   \n",
       "3  2433875152  May 14, 2019, 6:42:39 PM  Afternoon Run             2229   \n",
       "4  2433875172  May 20, 2019, 9:29:40 PM  Afternoon Run             1476   \n",
       "\n",
       "   kilometers   file_name                elevation_gain  \n",
       "0    3.206274         NaN  activities/2586852453.gpx.gz  \n",
       "1    3.013649  108.349995  activities/2586852481.gpx.gz  \n",
       "2    4.262605  120.610004  activities/2586852444.gpx.gz  \n",
       "3    5.014464  101.810005  activities/2586852499.gpx.gz  \n",
       "4    3.001222  132.550003  activities/2586852558.gpx.gz  "
      ]
     },
     "execution_count": 52,
     "metadata": {},
     "output_type": "execute_result"
    }
   ],
   "source": [
    "activities.head()"
   ]
  },
  {
   "cell_type": "code",
   "execution_count": null,
   "metadata": {},
   "outputs": [],
   "source": []
  }
 ],
 "metadata": {
  "kernelspec": {
   "display_name": "Python 3",
   "language": "python",
   "name": "python3"
  },
  "language_info": {
   "codemirror_mode": {
    "name": "ipython",
    "version": 3
   },
   "file_extension": ".py",
   "mimetype": "text/x-python",
   "name": "python",
   "nbconvert_exporter": "python",
   "pygments_lexer": "ipython3",
   "version": "3.8.3"
  }
 },
 "nbformat": 4,
 "nbformat_minor": 4
}
